{
 "cells": [
  {
   "cell_type": "code",
   "execution_count": 2,
   "metadata": {},
   "outputs": [
    {
     "name": "stdout",
     "output_type": "stream",
     "text": [
      "5\n",
      "6\n",
      "11\n"
     ]
    }
   ],
   "source": [
    "a = input()\n",
    "b = input()\n",
    "c = int(a) + int(b)\n",
    "print(c)"
   ]
  },
  {
   "cell_type": "code",
   "execution_count": 19,
   "metadata": {},
   "outputs": [
    {
     "name": "stdout",
     "output_type": "stream",
     "text": [
      "    k        x       e(%)\n",
      "    1    2.0000 -100.0000\n",
      "    2    1.5000  -33.3333\n",
      "    3    1.2083  -24.1379\n",
      "    4    1.0767  -12.2279\n",
      "    5    1.0265   -4.8843\n",
      "    6    1.0090   -1.7419\n",
      "    7    1.0030   -0.5945\n",
      "    8    1.0010   -0.1997\n",
      "    9    1.0003   -0.0668\n",
      "   10    1.0001   -0.0223\n",
      "   11    1.0000   -0.0074\n",
      "   12    1.0000   -0.0025\n",
      "   13    1.0000   -0.0008\n",
      "   14    1.0000   -0.0003\n",
      "   15    1.0000   -0.0001\n"
     ]
    },
    {
     "data": {
      "image/png": "[encoded data removed]",
      "text/plain": [
       "<Figure size 432x288 with 1 Axes>"
      ]
     },
     "metadata": {
      "needs_background": "light"
     },
     "output_type": "display_data"
    }
   ],
   "source": [
    "from numpy import zeros\n",
    "import matplotlib.pyplot as plt\n",
    "def g(x):\n",
    "    return 1.0/6.0*(x**2 + 5)\n",
    "n = 15\n",
    "x0 = 2.0\n",
    "x = zeros(n)\n",
    "x[0] = x0\n",
    "e0 = -100.0\n",
    "e = zeros(n)\n",
    "temp=range(1,16)\n",
    "e[0] = e0\n",
    "\n",
    "for i in range(n-1):\n",
    "    x[i+1] = g(x[i])\n",
    "    \n",
    "for i in range(n-1):\n",
    "    e[i+1] = ((x[i+1] - x[i]) / x[i+1]) * 100\n",
    "\n",
    "    \n",
    "    \n",
    "    \n",
    "print(\"%5s %8s %10s\" % ('k','x','e(%)'))\n",
    "\n",
    "for k in range(n):\n",
    "    print(\"%5d %9.4f %9.4f\" % (k+1,x[k],e[k]))\n",
    "    \n",
    "plt.plot(temp,x,'k')\n",
    "plt.show()"
   ]
  },
  {
   "cell_type": "code",
   "execution_count": null,
   "metadata": {},
   "outputs": [],
   "source": []
  }
 ],
 "metadata": {
  "kernelspec": {
   "display_name": "Python 3",
   "language": "python",
   "name": "python3"
  },
  "language_info": {
   "codemirror_mode": {
    "name": "ipython",
    "version": 3
   },
   "file_extension": ".py",
   "mimetype": "text/x-python",
   "name": "python",
   "nbconvert_exporter": "python",
   "pygments_lexer": "ipython3",
   "version": "3.7.1"
  }
 },
 "nbformat": 4,
 "nbformat_minor": 2
}
