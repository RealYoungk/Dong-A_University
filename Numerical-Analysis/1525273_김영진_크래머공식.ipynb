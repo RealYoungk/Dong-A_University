{
 "cells": [
  {
   "cell_type": "code",
   "execution_count": 1,
   "metadata": {},
   "outputs": [
    {
     "name": "stdout",
     "output_type": "stream",
     "text": [
      "a =  -2.0000 a1 =  8.0000 a2 =  -9.0000\n",
      "x1 =  -4.0 \n",
      "x2 =  4.5\n"
     ]
    }
   ],
   "source": [
    "import sys ## 1)\n",
    "from numpy import linspace, zeros\n",
    "from numpy.linalg import det\n",
    "import copy\n",
    "f1 = open(\"input.txt\",'r')\n",
    "matrix_size = 2\n",
    "matrixA = [[int(x) for x in f1.readline().split()] for y in range(matrix_size)]\n",
    "matrixB = [[int(x) for x in f1.readline().split()] for y in range(matrix_size)]\n",
    "\n",
    "# det(A) 구하기\n",
    "a = det(matrixA)\n",
    "\n",
    "# det(A1) 구하기\n",
    "matrix = copy.deepcopy(matrixA)\n",
    "for i in range(0,matrix_size):\n",
    "    matrix[i][0] = matrixB[i][0]\n",
    "a1= det(matrix)\n",
    "\n",
    "# det(A2) 구하기\n",
    "matrix = copy.deepcopy(matrixA)\n",
    "for i in range(0,matrix_size):\n",
    "    matrix[i][1] = matrixB[i][0]  \n",
    "a2= det(matrix)\n",
    "\n",
    "x1 = a1/a\n",
    "x2 = a2/a\n",
    "print('a = ', \"%0.4f\" % a, 'a1 = ', \"%0.4f\" % a1, 'a2 = ', \"%0.4f\" % a2)\n",
    "print('x1 = ', x1, '\\nx2 = ', x2)\n",
    "\n",
    "\n",
    "\n"
   ]
  },
  {
   "cell_type": "code",
   "execution_count": null,
   "metadata": {},
   "outputs": [],
   "source": []
  },
  {
   "cell_type": "code",
   "execution_count": null,
   "metadata": {},
   "outputs": [],
   "source": []
  }
 ],
 "metadata": {
  "kernelspec": {
   "display_name": "Python 3",
   "language": "python",
   "name": "python3"
  },
  "language_info": {
   "codemirror_mode": {
    "name": "ipython",
    "version": 3
   },
   "file_extension": ".py",
   "mimetype": "text/x-python",
   "name": "python",
   "nbconvert_exporter": "python",
   "pygments_lexer": "ipython3",
   "version": "3.7.1"
  }
 },
 "nbformat": 4,
 "nbformat_minor": 2
}
