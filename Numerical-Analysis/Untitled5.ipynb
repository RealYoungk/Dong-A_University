{
 "cells": [
  {
   "cell_type": "code",
   "execution_count": 3,
   "metadata": {},
   "outputs": [
    {
     "name": "stdout",
     "output_type": "stream",
     "text": [
      "a =  0.5 b =  1.5\n",
      "y =  0.5 x +  1.5\n"
     ]
    }
   ],
   "source": [
    "from numpy import array,mean,sum\n",
    "import matplotlib.pyplot as plt\n",
    "#data set\n",
    "x = array([0,1,2])\n",
    "y = array([1,3,2])\n",
    "n = len(x)\n",
    "xsum = sum(x)\n",
    "ysum = sum(y)\n",
    "xmean = mean(x)\n",
    "ymean = mean(y)\n",
    "xysum = 0\n",
    "x2sum = 0\n",
    "for i in range(n):\n",
    "    xysum = xysum + x[i] * y[i]\n",
    "    x2sum = x2sum + x[i] * x[i]\n",
    "    \n",
    "a = (n*xysum - xsum*ysum)/(n*x2sum - xsum**2)\n",
    "b = ymean - a*xmean\n",
    "print('a = ', a, 'b = ', b)\n",
    "print('y = ', a, 'x + ', b)\n",
    "\n"
   ]
  },
  {
   "cell_type": "code",
   "execution_count": null,
   "metadata": {},
   "outputs": [],
   "source": []
  }
 ],
 "metadata": {
  "kernelspec": {
   "display_name": "Python 3",
   "language": "python",
   "name": "python3"
  },
  "language_info": {
   "codemirror_mode": {
    "name": "ipython",
    "version": 3
   },
   "file_extension": ".py",
   "mimetype": "text/x-python",
   "name": "python",
   "nbconvert_exporter": "python",
   "pygments_lexer": "ipython3",
   "version": "3.7.1"
  }
 },
 "nbformat": 4,
 "nbformat_minor": 2
}
