{
 "cells": [
  {
   "cell_type": "code",
   "execution_count": 2,
   "metadata": {},
   "outputs": [
    {
     "name": "stdout",
     "output_type": "stream",
     "text": [
      "      k        x1        x2        x3\n",
      "      0   0.00000   0.00000   0.00000\n",
      "      1  -0.20000   0.15556  -0.50794\n",
      "      2   0.16698   0.33432  -0.42862\n",
      "      3   0.19090   0.33348  -0.42167\n",
      "      4   0.18639   0.33121  -0.42263\n",
      "      5   0.18606   0.33120  -0.42273\n",
      "      6   0.18612   0.33123  -0.42271\n",
      "      7   0.18612   0.33123  -0.42271\n"
     ]
    }
   ],
   "source": [
    "from numpy import *\n",
    "import matplotlib.pyplot as plt\n",
    "\n",
    "m=8\n",
    "x1=zeros(m)\n",
    "x2=zeros(m)\n",
    "x3=zeros(m)\n",
    "it=range(m)\n",
    "print('%7s %9s %9s %9s' % ('k','x1','x2','x3'))\n",
    "print('%7d %9.5f %9.5f %9.5f' % (0,x1[0],x2[0],x3[0]))\n",
    "for k in range(m-1):\n",
    "    x1[k+1] = (-1.0 + 2.0*x2[k] - 3.0*x3[k])/5.0\n",
    "    x2[k+1] = (2.0 + 3.0*x1[k+1] - x3[k])/9.0\n",
    "    x3[k+1] = (-3.0 + 2.0*x1[k+1] - x2[k+1])/7.0\n",
    "    print('%7d %9.5f %9.5f %9.5f' % (k+1,x1[k+1],x2[k+1],x3[k+1]))\n",
    "    \n",
    "plt.plot(it,x1,'ko-',label='x1')\n",
    "plt.plot(it,x2,'k--',label='x2')\n",
    "plt.plot(it,x3,'r--',label='x3')\n",
    "plt.legend()\n"
   ]
  },
  {
   "cell_type": "code",
   "execution_count": null,
   "metadata": {},
   "outputs": [],
   "source": []
  }
 ],
 "metadata": {
  "kernelspec": {
   "display_name": "Python 3",
   "language": "python",
   "name": "python3"
  },
  "language_info": {
   "codemirror_mode": {
    "name": "ipython",
    "version": 3
   },
   "file_extension": ".py",
   "mimetype": "text/x-python",
   "name": "python",
   "nbconvert_exporter": "python",
   "pygments_lexer": "ipython3",
   "version": "3.7.1"
  }
 },
 "nbformat": 4,
 "nbformat_minor": 2
}
