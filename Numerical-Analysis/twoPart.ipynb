{
 "cells": [
  {
   "cell_type": "code",
   "execution_count": 10,
   "metadata": {},
   "outputs": [
    {
     "name": "stdout",
     "output_type": "stream",
     "text": [
      "    k        c\n",
      "    1    2.5000\n",
      "    2    1.2500\n",
      "    3    0.6250\n",
      "    4    0.9375\n",
      "    5    1.0938\n",
      "    6    1.0156\n",
      "    7    0.9766\n",
      "    8    0.9961\n",
      "    9    1.0059\n",
      "   10    1.0010\n",
      "   11    0.9985\n",
      "   12    0.9998\n",
      "   13    1.0004\n",
      "   14    1.0001\n",
      "   15    0.9999\n"
     ]
    },
    {
     "data": {
      "image/png": "[encoded data removed]",
      "text/plain": [
       "<Figure size 432x288 with 1 Axes>"
      ]
     },
     "metadata": {
      "needs_background": "light"
     },
     "output_type": "display_data"
    }
   ],
   "source": [
    "from numpy import array, linspace, zeros, sign, cos\n",
    "import matplotlib.pyplot as plt\n",
    "\n",
    "def f(x):\n",
    "    return -x**2 + 6.0*x - 5.0\n",
    "\n",
    "a = 0.0\n",
    "b = 5.0\n",
    "n = 15\n",
    "c = zeros(n)\n",
    "#x = array{[1,2,3,4,5,6,7,8,9,10,11,12,13,14,15]}\n",
    "\n",
    "for i in range(n):\n",
    "    c[i] = (a+b)/2.0\n",
    "    if sign(f(c[i])) == sign(f(a)):\n",
    "        a = c[i]\n",
    "    else:\n",
    "        b = c[i]\n",
    "\n",
    "#printing output\n",
    "print(\"%5s %8s\" % ('k', 'c'))\n",
    "for k in range(n):\n",
    "    print(\"%5d %9.4f\" % (k+1, c[k]))\n",
    "    \n",
    "#printing Graph\n",
    "x = linspace(1,15,15)\n",
    "plt.plot(x,c,'k--')\n",
    "plt.show()"
   ]
  },
  {
   "cell_type": "code",
   "execution_count": null,
   "metadata": {},
   "outputs": [],
   "source": []
  }
 ],
 "metadata": {
  "kernelspec": {
   "display_name": "Python 3",
   "language": "python",
   "name": "python3"
  },
  "language_info": {
   "codemirror_mode": {
    "name": "ipython",
    "version": 3
   },
   "file_extension": ".py",
   "mimetype": "text/x-python",
   "name": "python",
   "nbconvert_exporter": "python",
   "pygments_lexer": "ipython3",
   "version": "3.7.1"
  }
 },
 "nbformat": 4,
 "nbformat_minor": 2
}
